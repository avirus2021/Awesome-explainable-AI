{
  "cells": [
    {
      "cell_type": "markdown",
      "metadata": {
        "id": "view-in-github",
        "colab_type": "text"
      },
      "source": [
        "<a href=\"https://colab.research.google.com/github/avirus2021/Awesome-explainable-AI/blob/master/CNN_Botanical_Research_proj_Amaresh.ipynb\" target=\"_parent\"><img src=\"https://colab.research.google.com/assets/colab-badge.svg\" alt=\"Open In Colab\"/></a>"
      ]
    },
    {
      "cell_type": "code",
      "execution_count": 1,
      "metadata": {
        "id": "8Z6tqfNppAsr"
      },
      "outputs": [],
      "source": [
        "import matplotlib.pyplot as plt\n",
        "%matplotlib inline"
      ]
    },
    {
      "cell_type": "markdown",
      "metadata": {
        "id": "qweXtQQvWPQx"
      },
      "source": [
        "#Botanical Research"
      ]
    },
    {
      "cell_type": "markdown",
      "metadata": {
        "id": "KQtsh3zkVmMr"
      },
      "source": [
        "• DOMAIN: Botanical Research\n",
        "\n",
        "• CONTEXT: University X is currently undergoing some research involving understanding the characteristics of plant and plant seedlings at various stages of growth. They already have have invested on curating sample\n",
        "images. They require an automation which can create a classifier capable of determining a plant's species from a photo.\n",
        "\n",
        "• DATA DESCRIPTION: The dataset comprises of images from 12 plant species. Source: https://www.kaggle.com/c/plant-seedlings-classification/data\n",
        "\n",
        "• PROJECT OBJECTIVE: University’s management require an automation which can create a classifier capable of determining a plant's species from a photo.\n"
      ]
    },
    {
      "cell_type": "code",
      "execution_count": 2,
      "metadata": {
        "id": "RNKv94lAaDN5"
      },
      "outputs": [],
      "source": [
        "project_path = \"/content/drive/MyDrive/Colab Notebooks/PROJECT/COMPUTER VISION\""
      ]
    },
    {
      "cell_type": "code",
      "execution_count": 3,
      "metadata": {
        "id": "eLh7Z0eTaPGZ"
      },
      "outputs": [],
      "source": [
        "from zipfile import ZipFile\n",
        "with ZipFile('/content/drive/MyDrive/Colab Notebooks/PROJECT/COMPUTER VISION/test.zip', 'r') as z:\n",
        "  z.extractall()"
      ]
    },
    {
      "cell_type": "code",
      "execution_count": 4,
      "metadata": {
        "id": "HhoVYV-FfHAS"
      },
      "outputs": [],
      "source": [
        "from zipfile import ZipFile\n",
        "with ZipFile('/content/drive/MyDrive/Colab Notebooks/PROJECT/COMPUTER VISION/train.zip', 'r') as z:\n",
        "  z.extractall()"
      ]
    },
    {
      "cell_type": "code",
      "execution_count": 5,
      "metadata": {
        "id": "3AfSH_64bRhl"
      },
      "outputs": [],
      "source": [
        "import pandas as pd\n",
        "import os"
      ]
    },
    {
      "cell_type": "code",
      "execution_count": 6,
      "metadata": {
        "id": "r4xoDKcpg6M_"
      },
      "outputs": [],
      "source": [
        "species_class = os.listdir('/content/train')"
      ]
    },
    {
      "cell_type": "code",
      "execution_count": 7,
      "metadata": {
        "id": "bDu7Mf5uBK7N"
      },
      "outputs": [],
      "source": [
        "BASE_DATA_FOLDER = '/content'\n",
        "TRAIN_DATA_FOLDER = os.path.join(BASE_DATA_FOLDER, \"train\")"
      ]
    },
    {
      "cell_type": "code",
      "execution_count": 8,
      "metadata": {
        "colab": {
          "base_uri": "https://localhost:8080/"
        },
        "id": "RsiqiRNonMnT",
        "outputId": "8ef62948-d789-4717-b63a-1c25cc0280a2"
      },
      "outputs": [
        {
          "output_type": "execute_result",
          "data": {
            "text/plain": [
              "['Sugar beet',\n",
              " 'Common wheat',\n",
              " 'Fat Hen',\n",
              " 'Common Chickweed',\n",
              " 'Maize',\n",
              " 'Loose Silky-bent',\n",
              " 'Black-grass',\n",
              " 'Shepherds Purse',\n",
              " 'Scentless Mayweed',\n",
              " 'Small-flowered Cranesbill',\n",
              " 'Charlock',\n",
              " 'Cleavers']"
            ]
          },
          "metadata": {},
          "execution_count": 8
        }
      ],
      "source": [
        "species_class"
      ]
    },
    {
      "cell_type": "code",
      "execution_count": 9,
      "metadata": {
        "id": "PNjLWZiKAjZ0"
      },
      "outputs": [],
      "source": [
        "from glob import glob\n",
        "import cv2\n",
        "images_per_class = {}\n",
        "for class_folder_name in os.listdir(TRAIN_DATA_FOLDER):\n",
        "    class_folder_path = os.path.join(TRAIN_DATA_FOLDER, class_folder_name)\n",
        "    class_label = class_folder_name\n",
        "    images_per_class[class_label] = []\n",
        "    for image_path in glob(os.path.join(class_folder_path, \"*.png\")):\n",
        "        image_bgr = cv2.imread(image_path, cv2.IMREAD_COLOR)\n",
        "        images_per_class[class_label].append(image_bgr)"
      ]
    },
    {
      "cell_type": "code",
      "execution_count": 10,
      "metadata": {
        "colab": {
          "base_uri": "https://localhost:8080/"
        },
        "id": "C5rT5gAJCN58",
        "outputId": "528011b3-9f4f-48db-9889-f7f7084982a3"
      },
      "outputs": [
        {
          "output_type": "stream",
          "name": "stdout",
          "text": [
            "Sugar beet = 385\n",
            "Common wheat = 221\n",
            "Fat Hen = 475\n",
            "Common Chickweed = 611\n",
            "Maize = 221\n",
            "Loose Silky-bent = 671\n",
            "Black-grass = 263\n",
            "Shepherds Purse = 231\n",
            "Scentless Mayweed = 516\n",
            "Small-flowered Cranesbill = 496\n",
            "Charlock = 390\n",
            "Cleavers = 287\n"
          ]
        }
      ],
      "source": [
        "for key,value in images_per_class.items():\n",
        "    print(\"{0} = {1}\".format(key, len(value)))"
      ]
    },
    {
      "cell_type": "markdown",
      "metadata": {
        "id": "a3pCXp9tVQ6D"
      },
      "source": [
        "Read unique id given to each image as filename"
      ]
    },
    {
      "cell_type": "code",
      "execution_count": 11,
      "metadata": {
        "colab": {
          "base_uri": "https://localhost:8080/"
        },
        "id": "BK5-dg-oVTJ_",
        "outputId": "c5bf9b21-9722-4f62-fcfa-cc2b02f5ea41"
      },
      "outputs": [
        {
          "output_type": "stream",
          "name": "stdout",
          "text": [
            "Training Data:  (4767, 3)\n"
          ]
        }
      ],
      "source": [
        "train = []\n",
        "\n",
        "for species_num, species in enumerate(species_class):\n",
        "    for file in os.listdir(os.path.join(TRAIN_DATA_FOLDER, species)):\n",
        "        train.append(['/content/train/{}/{}'.format(species, file), species_num, species])\n",
        "        \n",
        "train = pd.DataFrame(train, columns=['file', 'species_num', 'species'])\n",
        "\n",
        "print('Training Data: ',train.shape)"
      ]
    },
    {
      "cell_type": "code",
      "execution_count": 12,
      "metadata": {
        "colab": {
          "base_uri": "https://localhost:8080/",
          "height": 206
        },
        "id": "z1kthxsDnRVD",
        "outputId": "a4427792-4cc4-4e24-95f4-010982de337f"
      },
      "outputs": [
        {
          "output_type": "execute_result",
          "data": {
            "text/html": [
              "\n",
              "  <div id=\"df-f0776895-687a-45f9-b735-63132ef587db\">\n",
              "    <div class=\"colab-df-container\">\n",
              "      <div>\n",
              "<style scoped>\n",
              "    .dataframe tbody tr th:only-of-type {\n",
              "        vertical-align: middle;\n",
              "    }\n",
              "\n",
              "    .dataframe tbody tr th {\n",
              "        vertical-align: top;\n",
              "    }\n",
              "\n",
              "    .dataframe thead th {\n",
              "        text-align: right;\n",
              "    }\n",
              "</style>\n",
              "<table border=\"1\" class=\"dataframe\">\n",
              "  <thead>\n",
              "    <tr style=\"text-align: right;\">\n",
              "      <th></th>\n",
              "      <th>file</th>\n",
              "      <th>species_num</th>\n",
              "      <th>species</th>\n",
              "    </tr>\n",
              "  </thead>\n",
              "  <tbody>\n",
              "    <tr>\n",
              "      <th>0</th>\n",
              "      <td>/content/train/Sugar beet/da2912b2f.png</td>\n",
              "      <td>0</td>\n",
              "      <td>Sugar beet</td>\n",
              "    </tr>\n",
              "    <tr>\n",
              "      <th>1</th>\n",
              "      <td>/content/train/Sugar beet/99926b786.png</td>\n",
              "      <td>0</td>\n",
              "      <td>Sugar beet</td>\n",
              "    </tr>\n",
              "    <tr>\n",
              "      <th>2</th>\n",
              "      <td>/content/train/Sugar beet/a8ff2c49e.png</td>\n",
              "      <td>0</td>\n",
              "      <td>Sugar beet</td>\n",
              "    </tr>\n",
              "    <tr>\n",
              "      <th>3</th>\n",
              "      <td>/content/train/Sugar beet/84d42e202.png</td>\n",
              "      <td>0</td>\n",
              "      <td>Sugar beet</td>\n",
              "    </tr>\n",
              "    <tr>\n",
              "      <th>4</th>\n",
              "      <td>/content/train/Sugar beet/9f70ba1fb.png</td>\n",
              "      <td>0</td>\n",
              "      <td>Sugar beet</td>\n",
              "    </tr>\n",
              "  </tbody>\n",
              "</table>\n",
              "</div>\n",
              "      <button class=\"colab-df-convert\" onclick=\"convertToInteractive('df-f0776895-687a-45f9-b735-63132ef587db')\"\n",
              "              title=\"Convert this dataframe to an interactive table.\"\n",
              "              style=\"display:none;\">\n",
              "        \n",
              "  <svg xmlns=\"http://www.w3.org/2000/svg\" height=\"24px\"viewBox=\"0 0 24 24\"\n",
              "       width=\"24px\">\n",
              "    <path d=\"M0 0h24v24H0V0z\" fill=\"none\"/>\n",
              "    <path d=\"M18.56 5.44l.94 2.06.94-2.06 2.06-.94-2.06-.94-.94-2.06-.94 2.06-2.06.94zm-11 1L8.5 8.5l.94-2.06 2.06-.94-2.06-.94L8.5 2.5l-.94 2.06-2.06.94zm10 10l.94 2.06.94-2.06 2.06-.94-2.06-.94-.94-2.06-.94 2.06-2.06.94z\"/><path d=\"M17.41 7.96l-1.37-1.37c-.4-.4-.92-.59-1.43-.59-.52 0-1.04.2-1.43.59L10.3 9.45l-7.72 7.72c-.78.78-.78 2.05 0 2.83L4 21.41c.39.39.9.59 1.41.59.51 0 1.02-.2 1.41-.59l7.78-7.78 2.81-2.81c.8-.78.8-2.07 0-2.86zM5.41 20L4 18.59l7.72-7.72 1.47 1.35L5.41 20z\"/>\n",
              "  </svg>\n",
              "      </button>\n",
              "      \n",
              "  <style>\n",
              "    .colab-df-container {\n",
              "      display:flex;\n",
              "      flex-wrap:wrap;\n",
              "      gap: 12px;\n",
              "    }\n",
              "\n",
              "    .colab-df-convert {\n",
              "      background-color: #E8F0FE;\n",
              "      border: none;\n",
              "      border-radius: 50%;\n",
              "      cursor: pointer;\n",
              "      display: none;\n",
              "      fill: #1967D2;\n",
              "      height: 32px;\n",
              "      padding: 0 0 0 0;\n",
              "      width: 32px;\n",
              "    }\n",
              "\n",
              "    .colab-df-convert:hover {\n",
              "      background-color: #E2EBFA;\n",
              "      box-shadow: 0px 1px 2px rgba(60, 64, 67, 0.3), 0px 1px 3px 1px rgba(60, 64, 67, 0.15);\n",
              "      fill: #174EA6;\n",
              "    }\n",
              "\n",
              "    [theme=dark] .colab-df-convert {\n",
              "      background-color: #3B4455;\n",
              "      fill: #D2E3FC;\n",
              "    }\n",
              "\n",
              "    [theme=dark] .colab-df-convert:hover {\n",
              "      background-color: #434B5C;\n",
              "      box-shadow: 0px 1px 3px 1px rgba(0, 0, 0, 0.15);\n",
              "      filter: drop-shadow(0px 1px 2px rgba(0, 0, 0, 0.3));\n",
              "      fill: #FFFFFF;\n",
              "    }\n",
              "  </style>\n",
              "\n",
              "      <script>\n",
              "        const buttonEl =\n",
              "          document.querySelector('#df-f0776895-687a-45f9-b735-63132ef587db button.colab-df-convert');\n",
              "        buttonEl.style.display =\n",
              "          google.colab.kernel.accessAllowed ? 'block' : 'none';\n",
              "\n",
              "        async function convertToInteractive(key) {\n",
              "          const element = document.querySelector('#df-f0776895-687a-45f9-b735-63132ef587db');\n",
              "          const dataTable =\n",
              "            await google.colab.kernel.invokeFunction('convertToInteractive',\n",
              "                                                     [key], {});\n",
              "          if (!dataTable) return;\n",
              "\n",
              "          const docLinkHtml = 'Like what you see? Visit the ' +\n",
              "            '<a target=\"_blank\" href=https://colab.research.google.com/notebooks/data_table.ipynb>data table notebook</a>'\n",
              "            + ' to learn more about interactive tables.';\n",
              "          element.innerHTML = '';\n",
              "          dataTable['output_type'] = 'display_data';\n",
              "          await google.colab.output.renderOutput(dataTable, element);\n",
              "          const docLink = document.createElement('div');\n",
              "          docLink.innerHTML = docLinkHtml;\n",
              "          element.appendChild(docLink);\n",
              "        }\n",
              "      </script>\n",
              "    </div>\n",
              "  </div>\n",
              "  "
            ],
            "text/plain": [
              "                                      file  species_num     species\n",
              "0  /content/train/Sugar beet/da2912b2f.png            0  Sugar beet\n",
              "1  /content/train/Sugar beet/99926b786.png            0  Sugar beet\n",
              "2  /content/train/Sugar beet/a8ff2c49e.png            0  Sugar beet\n",
              "3  /content/train/Sugar beet/84d42e202.png            0  Sugar beet\n",
              "4  /content/train/Sugar beet/9f70ba1fb.png            0  Sugar beet"
            ]
          },
          "metadata": {},
          "execution_count": 12
        }
      ],
      "source": [
        "train.head()"
      ]
    },
    {
      "cell_type": "markdown",
      "metadata": {
        "id": "lT8aMXQK-nFt"
      },
      "source": [
        "\n",
        "One-hot encodings of species\n",
        "\n",
        "Encode train['species'] column"
      ]
    },
    {
      "cell_type": "code",
      "execution_count": 13,
      "metadata": {
        "id": "H-NsJsyPnTmK"
      },
      "outputs": [],
      "source": [
        "import numpy as np\n",
        "targets = pd.Series(train['species'])\n",
        "one_hot = pd.get_dummies(targets, sparse = True)\n",
        "one_hot_labels = np.asarray(one_hot)"
      ]
    },
    {
      "cell_type": "code",
      "execution_count": 14,
      "metadata": {
        "colab": {
          "base_uri": "https://localhost:8080/"
        },
        "id": "JsnEp5pBAB5P",
        "outputId": "5fd9a2f4-9aa8-479d-e832-dfc47ef3a219"
      },
      "outputs": [
        {
          "output_type": "execute_result",
          "data": {
            "text/plain": [
              "array([0, 0, 0, 0, 1, 0, 0, 0, 0, 0, 0, 0], dtype=uint8)"
            ]
          },
          "metadata": {},
          "execution_count": 14
        }
      ],
      "source": [
        "one_hot_labels[500]"
      ]
    },
    {
      "cell_type": "markdown",
      "metadata": {
        "id": "AS4ZWNPICBof"
      },
      "source": [
        "Define img_rows, img_cols, and num_channel variables"
      ]
    },
    {
      "cell_type": "code",
      "execution_count": 15,
      "metadata": {
        "id": "W-P2kesPAlec"
      },
      "outputs": [],
      "source": [
        "img_rows=256\n",
        "img_cols=256\n",
        "num_channel=1"
      ]
    },
    {
      "cell_type": "markdown",
      "metadata": {
        "id": "AYhovmoFCHku"
      },
      "source": [
        "\n",
        "Get features"
      ]
    },
    {
      "cell_type": "code",
      "execution_count": 16,
      "metadata": {
        "id": "A0qR6_BBCFN4"
      },
      "outputs": [],
      "source": [
        "# from tqdm import tqdm\n",
        "# import cv2\n",
        "# x_feature = []\n",
        "# y_feature = []\n",
        "\n",
        "# i = 0 # initialisation\n",
        "# for f, img in tqdm(train.values): # f for format ,png\n",
        "#  train_img = cv2.imread('./train/{}.jpg'.format(f),0)\n",
        "#  label = one_hot_labels[i]\n",
        "# train_img_resize = cv2.resize(train_img, (256, 256)) \n",
        "# x_feature.append(train_img_resize)\n",
        "# y_feature.append(label)\n",
        "# i += 1\n",
        "\n"
      ]
    },
    {
      "cell_type": "code",
      "source": [
        "# X = []\n",
        "#count = 0\n",
        "\n",
        "#path = glob.glob('/content/train')\n",
        "#for img in os.listdir('/content/train'):\n",
        "    #image = cv2.imread(os.path.join(path, img), cv2.IMREAD_GRAYSCALE)\n",
        "    #try:\n",
        "       # image = cv2.resize(image, (img_rows, img_cols), interpolation=cv2.INTER_AREA)\n",
        "      #  print(image.shape)\n",
        "    #except:\n",
        "    #    break\n",
        "   # X.append([image])\n",
        "   # count = count +1\n",
        "#print(count)"
      ],
      "metadata": {
        "id": "Ygw3YJ33SEFS"
      },
      "execution_count": 17,
      "outputs": []
    },
    {
      "cell_type": "code",
      "source": [
        "# import glob\n",
        "# import cv2\n",
        "# folders = glob.glob('/content/train')\n",
        "# imagenames_list = []\n",
        "# for folder in folders:\n",
        "#   for f in glob.glob(folder + '/*.png'):\n",
        "#    imagenames_list.append(f)\n",
        "\n",
        "# read_images = []\n",
        "# for image in imagenames_list: \n",
        "#   read_images.append(cv2.imread(image, cv2.IMREAD_GRAYSCALE))"
      ],
      "metadata": {
        "id": "ByKsCJV6E9vK"
      },
      "execution_count": 18,
      "outputs": []
    },
    {
      "cell_type": "code",
      "source": [
        "#x_train_data = np.array(imagenames_list, np.float32) / 255.   # /= 255 for normolisation\n",
        "#print (x_train_data.shape)"
      ],
      "metadata": {
        "id": "RGctxWGrHijv"
      },
      "execution_count": 19,
      "outputs": []
    },
    {
      "cell_type": "code",
      "source": [
        "# #import necessary packages \n",
        "# import cv2 \n",
        "# import os \n",
        "# import glob \n",
        "# import matplotlib.pyplot as plt \n",
        "# %matplotlib inline \n",
        " \n",
        "# #Set the path where images are stored \n",
        "# img_dir = \"/content/train\" # Enter Directory of all images  \n",
        "# data_path = os.path.join(img_dir,'*.png') \n",
        "# files = glob.glob(data_path) \n",
        "# data = [] \n",
        "# for f1 in files: \n",
        "#     img = cv2.imread(f1) \n",
        "#     data.append(img) \n",
        "#     plt.figure() \n",
        "#     plt.imshow(img)"
      ],
      "metadata": {
        "id": "kmXkyvfKP2aB"
      },
      "execution_count": 20,
      "outputs": []
    },
    {
      "cell_type": "code",
      "source": [
        "def create_mask_for_plant(image):\n",
        "    image_hsv = cv2.cvtColor(image, cv2.COLOR_BGR2HSV)\n",
        "\n",
        "    sensitivity = 35\n",
        "    lower_hsv = np.array([60 - sensitivity, 100, 50])\n",
        "    upper_hsv = np.array([60 + sensitivity, 255, 255])\n",
        "\n",
        "    mask = cv2.inRange(image_hsv, lower_hsv, upper_hsv)\n",
        "    kernel = cv2.getStructuringElement(cv2.MORPH_ELLIPSE, (11,11))\n",
        "    mask = cv2.morphologyEx(mask, cv2.MORPH_CLOSE, kernel)\n",
        "    \n",
        "    return mask\n",
        "\n",
        "def segment_plant(image):\n",
        "    mask = create_mask_for_plant(image)\n",
        "    output = cv2.bitwise_and(image, image, mask = mask)\n",
        "    return output\n",
        "\n",
        "def sharpen_image(image):\n",
        "    image_blurred = cv2.GaussianBlur(image, (0, 0), 3)\n",
        "    image_sharp = cv2.addWeighted(image, 1.5, image_blurred, -0.5, 0)\n",
        "    return image_sharp"
      ],
      "metadata": {
        "id": "ajk_g8NklMFX"
      },
      "execution_count": 21,
      "outputs": []
    },
    {
      "cell_type": "code",
      "source": [
        "  x_train = []\n",
        "\n",
        "  for i in range(len(train)):\n",
        "      img = cv2.imread(train['file'][i])\n",
        "      img = cv2.resize(img,dsize=(256,256))\n",
        "#     img_stack = segment_plant(img)\n",
        "#     img_stack = sharpen_image(img_stack)\n",
        "#     img_stack = cv2.cvtColor( img_stack, cv2.COLOR_RGB2GRAY )\n",
        "#     img_stack = np.reshape(img_stack,(256,256,1))\n",
        "      x_train.append(np.array(img))\n",
        "\n",
        "  x_train = np.array(x_train)"
      ],
      "metadata": {
        "id": "BMvrUHG_oPF-"
      },
      "execution_count": 27,
      "outputs": []
    },
    {
      "cell_type": "code",
      "source": [
        "x_train_data = np.array(x_train, np.float32) / 255.   # /= 255 for normolisation\n",
        "print (x_train_data.shape)"
      ],
      "metadata": {
        "colab": {
          "base_uri": "https://localhost:8080/"
        },
        "id": "HtleqYgHuchi",
        "outputId": "4a00b7d6-3e48-4641-9d22-4b478d7a4adf"
      },
      "execution_count": 28,
      "outputs": [
        {
          "output_type": "stream",
          "name": "stdout",
          "text": [
            "(4767, 256, 256, 3)\n"
          ]
        }
      ]
    },
    {
      "cell_type": "code",
      "source": [
        "y_train_data = np.array(one_hot_labels)\n",
        "y_train_data.shape"
      ],
      "metadata": {
        "colab": {
          "base_uri": "https://localhost:8080/"
        },
        "id": "xXdkRBQtvbtm",
        "outputId": "a2909074-187b-4a81-c93d-2e39c9400bb2"
      },
      "execution_count": 29,
      "outputs": [
        {
          "output_type": "execute_result",
          "data": {
            "text/plain": [
              "(4767, 12)"
            ]
          },
          "metadata": {},
          "execution_count": 29
        }
      ]
    },
    {
      "cell_type": "markdown",
      "source": [
        "Split the training and validation data here"
      ],
      "metadata": {
        "id": "aWqOaDdawtCf"
      }
    },
    {
      "cell_type": "code",
      "source": [
        "from sklearn.model_selection import train_test_split\n"
      ],
      "metadata": {
        "id": "sqJjD5mnwsNy"
      },
      "execution_count": 30,
      "outputs": []
    },
    {
      "cell_type": "code",
      "source": [
        "x_train, x_val, y_train, y_val = train_test_split(x_train_data, y_train_data, test_size=0.3, random_state=2)"
      ],
      "metadata": {
        "id": "MJpuJc69yC60"
      },
      "execution_count": null,
      "outputs": []
    },
    {
      "cell_type": "code",
      "source": [
        "print (x_train.shape)\n",
        "print (x_val.shape)"
      ],
      "metadata": {
        "id": "qgFFvt_PyFfA"
      },
      "execution_count": null,
      "outputs": []
    }
  ],
  "metadata": {
    "colab": {
      "collapsed_sections": [],
      "name": "CNN-Botanical_Research_proj_Amaresh",
      "provenance": [],
      "mount_file_id": "1qd2ixQzTouVR_kFI6nmsoVRuvM0-wWAs",
      "authorship_tag": "ABX9TyOW0rbjBHbFtJFAtwTa8ryW",
      "include_colab_link": true
    },
    "kernelspec": {
      "display_name": "Python 3",
      "name": "python3"
    },
    "language_info": {
      "name": "python"
    },
    "accelerator": "GPU"
  },
  "nbformat": 4,
  "nbformat_minor": 0
}